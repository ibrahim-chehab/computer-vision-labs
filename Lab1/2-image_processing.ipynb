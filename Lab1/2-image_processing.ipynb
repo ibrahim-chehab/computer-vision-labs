{
 "cells": [
  {
   "cell_type": "markdown",
   "metadata": {},
   "source": [
    "### Translation"
   ]
  },
  {
   "cell_type": "code",
   "execution_count": 1,
   "metadata": {},
   "outputs": [],
   "source": [
    "import cv2 as cv\n",
    "import numpy as np"
   ]
  },
  {
   "cell_type": "code",
   "execution_count": 5,
   "metadata": {},
   "outputs": [
    {
     "data": {
      "text/plain": [
       "32"
      ]
     },
     "execution_count": 5,
     "metadata": {},
     "output_type": "execute_result"
    }
   ],
   "source": [
    "image = cv.imread(\"../DATA/colors.jpg\")\n",
    "cv.imshow(\"Original\", image)\n",
    "cv.waitKey(0)"
   ]
  },
  {
   "cell_type": "code",
   "execution_count": 6,
   "metadata": {},
   "outputs": [
    {
     "data": {
      "text/plain": [
       "13"
      ]
     },
     "execution_count": 6,
     "metadata": {},
     "output_type": "execute_result"
    }
   ],
   "source": [
    "M = np.float32([\n",
    "  [1, 0, 25],\n",
    "  [0, 1, 50]\n",
    "])\n",
    "\n",
    "shifted = cv.warpAffine(image, M, (image.shape[1], image.shape[0]))\n",
    "cv.imshow(\"Shifted down and right\", shifted)\n",
    "cv.waitKey(0)"
   ]
  },
  {
   "cell_type": "code",
   "execution_count": 7,
   "metadata": {},
   "outputs": [
    {
     "data": {
      "text/plain": [
       "13"
      ]
     },
     "execution_count": 7,
     "metadata": {},
     "output_type": "execute_result"
    }
   ],
   "source": [
    "M = np.float32([\n",
    "  [1, 0, -25],\n",
    "  [0, 1, -50]\n",
    "])\n",
    "\n",
    "shifted = cv.warpAffine(image, M, (image.shape[1], image.shape[0]))\n",
    "cv.imshow(\"Shifted up and left\", shifted)\n",
    "cv.waitKey(0)"
   ]
  },
  {
   "cell_type": "code",
   "execution_count": 8,
   "metadata": {},
   "outputs": [],
   "source": [
    "def translate_image(image, x, y):\n",
    "  M = np.float32([[1, 0, x], [0, 1, y]])\n",
    "  shifted = cv.warpAffine(image, M, (image.shape[1], image.shape[0]))\n",
    "  return shifted"
   ]
  },
  {
   "cell_type": "code",
   "execution_count": 9,
   "metadata": {},
   "outputs": [
    {
     "data": {
      "text/plain": [
       "13"
      ]
     },
     "execution_count": 9,
     "metadata": {},
     "output_type": "execute_result"
    }
   ],
   "source": [
    "shifted = translate_image(image, -50, 90)\n",
    "cv.imshow(\"Shifted\", shifted)\n",
    "cv.waitKey(0)"
   ]
  },
  {
   "cell_type": "code",
   "execution_count": 50,
   "metadata": {},
   "outputs": [],
   "source": [
    "cv.destroyAllWindows()"
   ]
  },
  {
   "cell_type": "markdown",
   "metadata": {},
   "source": [
    "### Rotation"
   ]
  },
  {
   "cell_type": "code",
   "execution_count": 11,
   "metadata": {},
   "outputs": [
    {
     "data": {
      "text/plain": [
       "(540, 720, 3)"
      ]
     },
     "execution_count": 11,
     "metadata": {},
     "output_type": "execute_result"
    }
   ],
   "source": [
    "image.shape"
   ]
  },
  {
   "cell_type": "code",
   "execution_count": 15,
   "metadata": {},
   "outputs": [
    {
     "data": {
      "text/plain": [
       "32"
      ]
     },
     "execution_count": 15,
     "metadata": {},
     "output_type": "execute_result"
    }
   ],
   "source": [
    "(h, w) = image.shape[:2]\n",
    "center = w//2 , h//2\n",
    "M = cv.getRotationMatrix2D(center, 45, .5)\n",
    "rotated = cv.warpAffine(image, M, (w, h))\n",
    "cv.imshow(\"Rotated by 45 degress\", rotated)\n",
    "cv.waitKey(0)"
   ]
  },
  {
   "cell_type": "code",
   "execution_count": 16,
   "metadata": {},
   "outputs": [],
   "source": [
    "# function rotation\n",
    "def rotate_image(image, angle, scale):\n",
    "  (h, w) = image.shape[:2]\n",
    "  center = w//2 , h//2\n",
    "  M = cv.getRotationMatrix2D(center, angle, scale)\n",
    "  rotated = cv.warpAffine(image, M, (w, h))\n",
    "  return rotated"
   ]
  },
  {
   "cell_type": "code",
   "execution_count": 18,
   "metadata": {},
   "outputs": [
    {
     "data": {
      "text/plain": [
       "13"
      ]
     },
     "execution_count": 18,
     "metadata": {},
     "output_type": "execute_result"
    }
   ],
   "source": [
    "rotated = rotate_image(image, 45, .5)\n",
    "cv.imshow(\"Rotated by 45 degress\", rotated)\n",
    "cv.waitKey(0)"
   ]
  },
  {
   "cell_type": "markdown",
   "metadata": {},
   "source": [
    "### Resizing"
   ]
  },
  {
   "cell_type": "code",
   "execution_count": 23,
   "metadata": {},
   "outputs": [
    {
     "name": "stdout",
     "output_type": "stream",
     "text": [
      "0.09259259259259259\n"
     ]
    },
    {
     "data": {
      "text/plain": [
       "32"
      ]
     },
     "execution_count": 23,
     "metadata": {},
     "output_type": "execute_result"
    }
   ],
   "source": [
    "h = image.shape[0]\n",
    "w = image.shape[1]\n",
    "r = 50.0 / h\n",
    "print(r)\n",
    "dim = (int(w*r), 50) # (h,w)\n",
    "resized = cv.resize(image, dim, interpolation=cv.INTER_AREA)\n",
    "cv.imshow(\"Resized (Height)\", resized)\n",
    "cv.waitKey(0)"
   ]
  },
  {
   "cell_type": "code",
   "execution_count": 1,
   "metadata": {},
   "outputs": [],
   "source": [
    "import imutils"
   ]
  },
  {
   "cell_type": "code",
   "execution_count": 27,
   "metadata": {},
   "outputs": [
    {
     "data": {
      "text/plain": [
       "13"
      ]
     },
     "execution_count": 27,
     "metadata": {},
     "output_type": "execute_result"
    }
   ],
   "source": [
    "resized = imutils.resize(image, width = 100)\n",
    "cv.imshow(\"Resized with Imtuils\", resized)\n",
    "cv.waitKey(0)"
   ]
  },
  {
   "cell_type": "markdown",
   "metadata": {},
   "source": [
    "### Flipping"
   ]
  },
  {
   "cell_type": "code",
   "execution_count": 28,
   "metadata": {},
   "outputs": [
    {
     "data": {
      "text/plain": [
       "13"
      ]
     },
     "execution_count": 28,
     "metadata": {},
     "output_type": "execute_result"
    }
   ],
   "source": [
    "flipped = cv.flip(image, 1)\n",
    "cv.imshow(\"Flip horizontaly\", flipped)\n",
    "cv.waitKey(0)"
   ]
  },
  {
   "cell_type": "code",
   "execution_count": 30,
   "metadata": {},
   "outputs": [
    {
     "data": {
      "text/plain": [
       "32"
      ]
     },
     "execution_count": 30,
     "metadata": {},
     "output_type": "execute_result"
    }
   ],
   "source": [
    "flipped = cv.flip(image, 0)\n",
    "cv.imshow(\"Flip vertically\", flipped)\n",
    "cv.waitKey(0)"
   ]
  },
  {
   "cell_type": "code",
   "execution_count": 31,
   "metadata": {},
   "outputs": [
    {
     "data": {
      "text/plain": [
       "13"
      ]
     },
     "execution_count": 31,
     "metadata": {},
     "output_type": "execute_result"
    }
   ],
   "source": [
    "flipped = cv.flip(image, -1)\n",
    "cv.imshow(\"Flip horizontaly and vertically\", flipped)\n",
    "cv.waitKey(0)"
   ]
  },
  {
   "cell_type": "markdown",
   "metadata": {},
   "source": [
    "### Cropping"
   ]
  },
  {
   "cell_type": "code",
   "execution_count": 34,
   "metadata": {},
   "outputs": [
    {
     "data": {
      "text/plain": [
       "13"
      ]
     },
     "execution_count": 34,
     "metadata": {},
     "output_type": "execute_result"
    }
   ],
   "source": [
    "cropped = image[30:120, 240:335]\n",
    "cv.imshow(\"Cropped\", cropped)\n",
    "cv.waitKey(0)"
   ]
  },
  {
   "cell_type": "markdown",
   "metadata": {},
   "source": [
    "### Arithmetics"
   ]
  },
  {
   "cell_type": "code",
   "execution_count": null,
   "metadata": {},
   "outputs": [
    {
     "data": {
      "text/plain": [
       "13"
      ]
     },
     "execution_count": 38,
     "metadata": {},
     "output_type": "execute_result"
    }
   ],
   "source": [
    "M = np.ones(image.shape, dtype=\"uint8\") * 50\n",
    "substracted = cv.subtract(image, M)\n",
    "cv.imshow(\"Subtracted\", substracted)\n",
    "cv.waitKey(0)"
   ]
  },
  {
   "cell_type": "code",
   "execution_count": 39,
   "metadata": {},
   "outputs": [
    {
     "data": {
      "text/plain": [
       "32"
      ]
     },
     "execution_count": 39,
     "metadata": {},
     "output_type": "execute_result"
    }
   ],
   "source": [
    "rectangle = np.zeros((300, 300), dtype=\"uint8\")\n",
    "cv.rectangle(rectangle, (25, 25), (275, 275), 255, -1)\n",
    "cv.imshow(\"Rectangle\", rectangle)\n",
    "\n",
    "circle = np.zeros((300, 300), dtype=\"uint8\")\n",
    "cv.circle(circle, (150, 150), 150 , 255, -1)\n",
    "cv.imshow(\"Circle\", circle)\n",
    "\n",
    "cv.waitKey(0)"
   ]
  },
  {
   "cell_type": "markdown",
   "metadata": {},
   "source": [
    "### Bitwise Operations"
   ]
  },
  {
   "cell_type": "code",
   "execution_count": 40,
   "metadata": {},
   "outputs": [
    {
     "data": {
      "text/plain": [
       "13"
      ]
     },
     "execution_count": 40,
     "metadata": {},
     "output_type": "execute_result"
    }
   ],
   "source": [
    "bitwiseAnd = cv.bitwise_and(rectangle, circle)\n",
    "cv.imshow(\"And\", bitwiseAnd)\n",
    "cv.waitKey(0)"
   ]
  },
  {
   "cell_type": "code",
   "execution_count": null,
   "metadata": {},
   "outputs": [],
   "source": [
    "\"\"\"\n",
    "\n",
    "rectangle = [1, 1, 0]\n",
    "circle = [0, 1, 1]\n",
    "and = [0, 1, 0]\n",
    "\n",
    "\"\"\""
   ]
  },
  {
   "cell_type": "code",
   "execution_count": 41,
   "metadata": {},
   "outputs": [
    {
     "data": {
      "text/plain": [
       "32"
      ]
     },
     "execution_count": 41,
     "metadata": {},
     "output_type": "execute_result"
    }
   ],
   "source": [
    "bitwiseOr = cv.bitwise_or(rectangle, circle)\n",
    "cv.imshow(\"Or\", bitwiseOr)\n",
    "cv.waitKey(0)"
   ]
  },
  {
   "cell_type": "code",
   "execution_count": 42,
   "metadata": {},
   "outputs": [
    {
     "data": {
      "text/plain": [
       "13"
      ]
     },
     "execution_count": 42,
     "metadata": {},
     "output_type": "execute_result"
    }
   ],
   "source": [
    "bitwiseXOr = cv.bitwise_xor(rectangle, circle)\n",
    "cv.imshow(\"XOr\", bitwiseXOr)\n",
    "cv.waitKey(0)"
   ]
  },
  {
   "cell_type": "code",
   "execution_count": 43,
   "metadata": {},
   "outputs": [
    {
     "data": {
      "text/plain": [
       "13"
      ]
     },
     "execution_count": 43,
     "metadata": {},
     "output_type": "execute_result"
    }
   ],
   "source": [
    "bitwiseNot = cv.bitwise_not(rectangle, circle)\n",
    "cv.imshow(\"Not\", bitwiseNot)\n",
    "cv.waitKey(0)"
   ]
  },
  {
   "cell_type": "markdown",
   "metadata": {},
   "source": [
    "### Masking"
   ]
  },
  {
   "cell_type": "code",
   "execution_count": 45,
   "metadata": {},
   "outputs": [
    {
     "data": {
      "text/plain": [
       "32"
      ]
     },
     "execution_count": 45,
     "metadata": {},
     "output_type": "execute_result"
    }
   ],
   "source": [
    "mask = np.zeros(image.shape[:2], dtype=\"uint8\")\n",
    "(cX, cY) = image.shape[1] // 2, image.shape[0] // 2\n",
    "cv.rectangle(mask, (cX - 75, cY - 75), (cX + 75, cY + 75), 255, -1)\n",
    "cv.imshow(\"Mask\", mask)\n",
    "cv.waitKey(0)"
   ]
  },
  {
   "cell_type": "code",
   "execution_count": 46,
   "metadata": {},
   "outputs": [
    {
     "data": {
      "text/plain": [
       "32"
      ]
     },
     "execution_count": 46,
     "metadata": {},
     "output_type": "execute_result"
    }
   ],
   "source": [
    "masked_image = cv.bitwise_and(image, image, mask=mask)\n",
    "cv.imshow(\"Masked image\", masked_image)\n",
    "cv.waitKey(0)"
   ]
  },
  {
   "cell_type": "markdown",
   "metadata": {},
   "source": [
    "### Color Spaces"
   ]
  },
  {
   "cell_type": "code",
   "execution_count": 47,
   "metadata": {},
   "outputs": [
    {
     "data": {
      "text/plain": [
       "13"
      ]
     },
     "execution_count": 47,
     "metadata": {},
     "output_type": "execute_result"
    }
   ],
   "source": [
    "gray = cv.cvtColor(image, cv.COLOR_BGR2GRAY)\n",
    "cv.imshow(\"Gray\", gray)\n",
    "\n",
    "hsv = cv.cvtColor(image, cv.COLOR_BGR2HSV)\n",
    "cv.imshow(\"HSV\", hsv)\n",
    "\n",
    "lab = cv.cvtColor(image, cv.COLOR_BGR2LAB)\n",
    "cv.imshow(\"L*a*b*\", lab)\n",
    "\n",
    "cv.waitKey(0)"
   ]
  },
  {
   "cell_type": "markdown",
   "metadata": {},
   "source": [
    "### Histograms"
   ]
  },
  {
   "cell_type": "code",
   "execution_count": 49,
   "metadata": {},
   "outputs": [
    {
     "data": {
      "text/plain": [
       "13"
      ]
     },
     "execution_count": 49,
     "metadata": {},
     "output_type": "execute_result"
    }
   ],
   "source": [
    "import matplotlib.pyplot as plt\n",
    "image = cv.imread(\"../DATA/grayscale_image.jpg\")\n",
    "image = cv.cvtColor(image, cv.COLOR_BGR2GRAY)\n",
    "cv.imshow(\"Gray image\", image)\n",
    "cv.waitKey(0)"
   ]
  },
  {
   "cell_type": "code",
   "execution_count": 58,
   "metadata": {},
   "outputs": [],
   "source": [
    "cv.destroyAllWindows()"
   ]
  },
  {
   "cell_type": "code",
   "execution_count": 52,
   "metadata": {},
   "outputs": [
    {
     "data": {
      "image/png": "[encoded data removed]",
      "text/plain": [
       "<Figure size 640x480 with 1 Axes>"
      ]
     },
     "metadata": {},
     "output_type": "display_data"
    }
   ],
   "source": [
    "hist = cv.calcHist([image], [0], None, [256], [0, 256])\n",
    "plt.figure()\n",
    "plt.title(\"Grayscale histogram\")\n",
    "plt.xlabel(\"Bins\")\n",
    "plt.ylabel(\"# of pixels\")\n",
    "plt.plot(hist)\n",
    "plt.xlim([0, 256])\n",
    "plt.show()"
   ]
  },
  {
   "cell_type": "code",
   "execution_count": 55,
   "metadata": {},
   "outputs": [
    {
     "data": {
      "image/png": "[encoded data removed]",
      "text/plain": [
       "<Figure size 640x480 with 1 Axes>"
      ]
     },
     "metadata": {},
     "output_type": "display_data"
    }
   ],
   "source": [
    "image = cv.imread(\"../DATA/colors.jpg\")\n",
    "chans = cv.split(image)\n",
    "colors = (\"b\", \"g\", \"r\")\n",
    "plt.figure()\n",
    "plt.title(\"Flattend color histogram\")\n",
    "plt.xlabel(\"Bins\")\n",
    "plt.ylabel(\"# of pixels\")\n",
    "\n",
    "for (chan, color) in zip(chans, colors):\n",
    "  hist = cv.calcHist([chan], [0], None, [256], [0, 256])\n",
    "  plt.plot(hist, color=color)\n",
    "  plt.xlim([0, 256])"
   ]
  },
  {
   "cell_type": "markdown",
   "metadata": {},
   "source": [
    "### Smoothing and bluring"
   ]
  },
  {
   "cell_type": "code",
   "execution_count": 56,
   "metadata": {},
   "outputs": [
    {
     "data": {
      "text/plain": [
       "13"
      ]
     },
     "execution_count": 56,
     "metadata": {},
     "output_type": "execute_result"
    }
   ],
   "source": [
    "image = cv.imread(\"../DATA/colors.jpg\")\n",
    "blurred = np.hstack(\n",
    "  [\n",
    "    cv.blur(image, (3, 3)),\n",
    "    cv.blur(image, (5, 5)),\n",
    "    cv.blur(image, (7, 7))\n",
    "  ]\n",
    ")\n",
    "cv.imshow(\"Blurred\", blurred)\n",
    "cv.waitKey(0)"
   ]
  },
  {
   "cell_type": "code",
   "execution_count": 57,
   "metadata": {},
   "outputs": [
    {
     "data": {
      "text/plain": [
       "32"
      ]
     },
     "execution_count": 57,
     "metadata": {},
     "output_type": "execute_result"
    }
   ],
   "source": [
    "image = cv.imread(\"../DATA/colors.jpg\")\n",
    "blurred = np.hstack(\n",
    "  [\n",
    "    cv.GaussianBlur(image, (3, 3), sigmaX=0),\n",
    "    cv.GaussianBlur(image, (5, 5), sigmaX=0),\n",
    "    cv.GaussianBlur(image, (7, 7), sigmaX=0)\n",
    "  ]\n",
    ")\n",
    "cv.imshow(\"GaussianBlur\", blurred)\n",
    "cv.waitKey(0)"
   ]
  },
  {
   "cell_type": "code",
   "execution_count": 59,
   "metadata": {},
   "outputs": [
    {
     "data": {
      "text/plain": [
       "32"
      ]
     },
     "execution_count": 59,
     "metadata": {},
     "output_type": "execute_result"
    }
   ],
   "source": [
    "image = cv.imread(\"../DATA/colors.jpg\")\n",
    "blurred = np.hstack(\n",
    "  [\n",
    "    cv.medianBlur(image, 3),\n",
    "    cv.medianBlur(image, 5),\n",
    "    cv.medianBlur(image, 7)\n",
    "  ]\n",
    ")\n",
    "cv.imshow(\"MedianBlur\", blurred)\n",
    "cv.waitKey(0)"
   ]
  },
  {
   "cell_type": "code",
   "execution_count": null,
   "metadata": {},
   "outputs": [],
   "source": []
  }
 ],
 "metadata": {
  "kernelspec": {
   "display_name": "cv_venv",
   "language": "python",
   "name": "python3"
  },
  "language_info": {
   "codemirror_mode": {
    "name": "ipython",
    "version": 3
   },
   "file_extension": ".py",
   "mimetype": "text/x-python",
   "name": "python",
   "nbconvert_exporter": "python",
   "pygments_lexer": "ipython3",
   "version": "3.11.9"
  }
 },
 "nbformat": 4,
 "nbformat_minor": 2
}
