{
 "cells": [
  {
   "cell_type": "code",
   "execution_count": 3,
   "metadata": {},
   "outputs": [],
   "source": [
    "import cv2 as cv"
   ]
  },
  {
   "cell_type": "code",
   "execution_count": 2,
   "metadata": {},
   "outputs": [],
   "source": [
    "# read image\n",
    "image = cv.imread(\"../DATA/image1.png\")"
   ]
  },
  {
   "cell_type": "code",
   "execution_count": 3,
   "metadata": {},
   "outputs": [
    {
     "name": "stdout",
     "output_type": "stream",
     "text": [
      "[[163 163 163 ... 172 154 127]\n",
      " [163 156 163 ... 168 154 129]\n",
      " [163 163 163 ... 168 156 122]\n",
      " ...\n",
      " [ 40  43  48 ... 107 103  98]\n",
      " [ 43  43  50 ... 107 107 107]\n",
      " [ 40  43  54 ... 100 104 110]]\n"
     ]
    }
   ],
   "source": [
    "gray = cv.cvtColor(image, cv.COLOR_BGR2GRAY)\n",
    "print(gray)"
   ]
  },
  {
   "cell_type": "code",
   "execution_count": 4,
   "metadata": {},
   "outputs": [
    {
     "name": "stdout",
     "output_type": "stream",
     "text": [
      "(512, 512, 3)\n"
     ]
    }
   ],
   "source": [
    "print(image.shape)"
   ]
  },
  {
   "cell_type": "code",
   "execution_count": 5,
   "metadata": {},
   "outputs": [
    {
     "name": "stdout",
     "output_type": "stream",
     "text": [
      "(512, 512)\n"
     ]
    }
   ],
   "source": [
    "print(gray.shape)"
   ]
  },
  {
   "cell_type": "code",
   "execution_count": 6,
   "metadata": {},
   "outputs": [],
   "source": [
    "rgb_image = cv.imread(\"../DATA/rgb_image.jpg\")"
   ]
  },
  {
   "cell_type": "code",
   "execution_count": 7,
   "metadata": {},
   "outputs": [],
   "source": [
    "rgb_image = cv.cvtColor(rgb_image, cv.COLOR_BGR2RGB)"
   ]
  },
  {
   "cell_type": "code",
   "execution_count": 8,
   "metadata": {},
   "outputs": [
    {
     "data": {
      "text/plain": [
       "(360, 639, 3)"
      ]
     },
     "execution_count": 8,
     "metadata": {},
     "output_type": "execute_result"
    }
   ],
   "source": [
    "rgb_image.shape"
   ]
  },
  {
   "cell_type": "code",
   "execution_count": 9,
   "metadata": {},
   "outputs": [],
   "source": [
    "rgb_image_1 = cv.imread(\"../DATA/colors.jpg\")"
   ]
  },
  {
   "cell_type": "code",
   "execution_count": 10,
   "metadata": {},
   "outputs": [],
   "source": [
    "rgb_image_1 = cv.cvtColor(rgb_image_1, cv.COLOR_BGR2RGB)"
   ]
  },
  {
   "cell_type": "code",
   "execution_count": 11,
   "metadata": {},
   "outputs": [],
   "source": [
    "(R, G, B) = cv.split(image)"
   ]
  },
  {
   "cell_type": "code",
   "execution_count": 12,
   "metadata": {},
   "outputs": [],
   "source": [
    "cv.namedWindow(\"Blue\", cv.WINDOW_NORMAL)\n",
    "cv.namedWindow(\"Green\", cv.WINDOW_NORMAL)\n",
    "cv.namedWindow(\"Red\", cv.WINDOW_NORMAL)"
   ]
  },
  {
   "cell_type": "code",
   "execution_count": 13,
   "metadata": {},
   "outputs": [],
   "source": [
    "cv.imshow(\"Blue\", B)\n",
    "cv.imshow(\"Green\", G)\n",
    "cv.imshow(\"Red\", R)"
   ]
  },
  {
   "cell_type": "code",
   "execution_count": 14,
   "metadata": {},
   "outputs": [],
   "source": [
    "cv.imwrite(\"channel_red.jpg\", R)\n",
    "cv.imwrite(\"channel_green.jpg\", G)\n",
    "cv.imwrite(\"channel_blue.jpg\", B)\n",
    "if cv.waitKey(0):\n",
    "  cv.destroyAllWindows()"
   ]
  },
  {
   "cell_type": "code",
   "execution_count": 15,
   "metadata": {},
   "outputs": [
    {
     "name": "stdout",
     "output_type": "stream",
     "text": [
      "At pixel (0,0), - Red: 42, Green: 141, Blue: 12\n"
     ]
    }
   ],
   "source": [
    "rgb_image_1 = cv.imread(\"../DATA/colors.jpg\")\n",
    "(b, g, r) = rgb_image_1[0, 0]\n",
    "print(f\"At pixel (0,0), - Red: {r}, Green: {g}, Blue: {b}\")"
   ]
  },
  {
   "cell_type": "markdown",
   "metadata": {},
   "source": [
    "### Drawing"
   ]
  },
  {
   "cell_type": "code",
   "execution_count": 1,
   "metadata": {},
   "outputs": [],
   "source": [
    "import numpy as np"
   ]
  },
  {
   "cell_type": "code",
   "execution_count": 4,
   "metadata": {},
   "outputs": [],
   "source": [
    "canvas = np.zeros((300, 300, 3), dtype=\"uint8\")"
   ]
  },
  {
   "cell_type": "code",
   "execution_count": 5,
   "metadata": {},
   "outputs": [
    {
     "data": {
      "text/plain": [
       "32"
      ]
     },
     "execution_count": 5,
     "metadata": {},
     "output_type": "execute_result"
    }
   ],
   "source": [
    "green = (0, 255, 0)\n",
    "cv.line(canvas, (0, 0), (300, 300), green)\n",
    "cv.imshow(\"Canvas\", canvas)\n",
    "cv.waitKey(0)"
   ]
  },
  {
   "cell_type": "code",
   "execution_count": 6,
   "metadata": {},
   "outputs": [
    {
     "data": {
      "text/plain": [
       "13"
      ]
     },
     "execution_count": 6,
     "metadata": {},
     "output_type": "execute_result"
    }
   ],
   "source": [
    "red = (0, 0, 255)\n",
    "cv.line(canvas, (300, 0), (0, 300), red)\n",
    "cv.imshow(\"Canvas\", canvas)\n",
    "cv.waitKey(0)"
   ]
  },
  {
   "cell_type": "code",
   "execution_count": 7,
   "metadata": {},
   "outputs": [
    {
     "data": {
      "text/plain": [
       "13"
      ]
     },
     "execution_count": 7,
     "metadata": {},
     "output_type": "execute_result"
    }
   ],
   "source": [
    "cv.rectangle(canvas, (50, 200), (200, 255), red, 5)\n",
    "cv.imshow(\"Canvas\", canvas)\n",
    "cv.waitKey(0)"
   ]
  },
  {
   "cell_type": "code",
   "execution_count": 8,
   "metadata": {},
   "outputs": [
    {
     "data": {
      "text/plain": [
       "(300, 300, 3)"
      ]
     },
     "execution_count": 8,
     "metadata": {},
     "output_type": "execute_result"
    }
   ],
   "source": [
    "canvas = np.zeros((300, 300, 3), dtype=\"uint8\")\n",
    "canvas.shape"
   ]
  },
  {
   "cell_type": "code",
   "execution_count": 9,
   "metadata": {},
   "outputs": [],
   "source": [
    "(centerX, centerY) = (canvas.shape[1] // 2, canvas.shape[0] // 2)\n",
    "white = (255, 255, 255)"
   ]
  },
  {
   "cell_type": "code",
   "execution_count": 10,
   "metadata": {},
   "outputs": [
    {
     "name": "stdout",
     "output_type": "stream",
     "text": [
      "150 150\n"
     ]
    }
   ],
   "source": [
    "print(centerX, centerY)"
   ]
  },
  {
   "cell_type": "code",
   "execution_count": 11,
   "metadata": {},
   "outputs": [
    {
     "data": {
      "text/plain": [
       "32"
      ]
     },
     "execution_count": 11,
     "metadata": {},
     "output_type": "execute_result"
    }
   ],
   "source": [
    "for r in range(0, 175, 25):\n",
    "  cv.circle(canvas, (centerX, centerY), r, white)\n",
    "\n",
    "cv.imshow(\"Canvas\", canvas)\n",
    "cv.waitKey(0)"
   ]
  },
  {
   "cell_type": "code",
   "execution_count": 2,
   "metadata": {},
   "outputs": [
    {
     "name": "stdout",
     "output_type": "stream",
     "text": [
      "180 [48, 78, 17] [166 213]\n",
      "180 [90, 142, 79] [242 205]\n",
      "109 [116, 39, 71] [ 29 288]\n",
      "160 [80, 173, 25] [219 192]\n",
      "134 [58, 65, 149] [216  58]\n",
      "119 [150, 130, 17] [131 184]\n",
      "51 [182, 50, 59] [287 191]\n",
      "45 [11, 14, 113] [228 134]\n",
      "177 [146, 166, 155] [227 123]\n",
      "138 [58, 182, 44] [227 124]\n",
      "169 [52, 47, 121] [130 127]\n",
      "169 [144, 94, 100] [169  45]\n",
      "129 [122, 185, 161] [251 149]\n",
      "181 [106, 46, 140] [ 9 69]\n",
      "115 [128, 52, 188] [280 117]\n",
      "99 [84, 105, 64] [ 7 60]\n",
      "31 [42, 96, 69] [121   9]\n",
      "93 [35, 151, 184] [222  15]\n",
      "111 [129, 71, 180] [136  92]\n",
      "121 [69, 66, 162] [297 184]\n",
      "74 [125, 198, 90] [263 173]\n",
      "86 [89, 113, 113] [179 161]\n",
      "152 [128, 64, 43] [132 299]\n",
      "184 [23, 19, 161] [ 64 154]\n",
      "157 [57, 7, 18] [262  50]\n"
     ]
    }
   ],
   "source": [
    "for i in range(0, 25):\n",
    "  radius = np.random.randint(low=5, high=200)\n",
    "  color = np.random.randint(low=0, high=200, size=(3,)).tolist()\n",
    "  pt = np.random.randint(low=0, high=300, size=(2,))\n",
    "  print(radius, color, pt)"
   ]
  },
  {
   "cell_type": "code",
   "execution_count": 13,
   "metadata": {},
   "outputs": [
    {
     "data": {
      "text/plain": [
       "32"
      ]
     },
     "execution_count": 13,
     "metadata": {},
     "output_type": "execute_result"
    },
    {
     "ename": "",
     "evalue": "",
     "output_type": "error",
     "traceback": [
      "\u001b[1;31mThe Kernel crashed while executing code in the current cell or a previous cell. \n",
      "\u001b[1;31mPlease review the code in the cell(s) to identify a possible cause of the failure. \n",
      "\u001b[1;31mClick <a href='https://aka.ms/vscodeJupyterKernelCrash'>here</a> for more info. \n",
      "\u001b[1;31mView Jupyter <a href='command:jupyter.viewOutput'>log</a> for further details."
     ]
    }
   ],
   "source": [
    "for i in range(0, 25):\n",
    "  radius = np.random.randint(low=5, high=200)\n",
    "  color = np.random.randint(low=0, high=200, size=(3,)).tolist()\n",
    "  pt = np.random.randint(low=0, high=300, size=(2,))\n",
    "  cv.circle(canvas, pt, radius, color, -1)\n",
    "  \n",
    "cv.imshow(\"Canvas\", canvas)\n",
    "cv.waitKey(0)"
   ]
  },
  {
   "cell_type": "code",
   "execution_count": null,
   "metadata": {},
   "outputs": [],
   "source": []
  }
 ],
 "metadata": {
  "kernelspec": {
   "display_name": "cv_venv",
   "language": "python",
   "name": "python3"
  },
  "language_info": {
   "codemirror_mode": {
    "name": "ipython",
    "version": 3
   },
   "file_extension": ".py",
   "mimetype": "text/x-python",
   "name": "python",
   "nbconvert_exporter": "python",
   "pygments_lexer": "ipython3",
   "version": "3.11.9"
  }
 },
 "nbformat": 4,
 "nbformat_minor": 2
}
